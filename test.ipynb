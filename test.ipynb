{
 "cells": [
  {
   "cell_type": "code",
   "execution_count": 2,
   "metadata": {},
   "outputs": [],
   "source": [
    "import utility as util\n",
    "import app_client as app"
   ]
  },
  {
   "cell_type": "code",
   "execution_count": 11,
   "metadata": {},
   "outputs": [
    {
     "name": "stdout",
     "output_type": "stream",
     "text": [
      "Successfully connected.\n"
     ]
    }
   ],
   "source": [
    "conn = util.get_conn('wordleclient', '')\n",
    "cursor = conn.cursor(dictionary=True)\n"
   ]
  },
  {
   "cell_type": "code",
   "execution_count": 12,
   "metadata": {},
   "outputs": [],
   "source": [
    "query = 'SELECT item_name, quantity FROM player_items NATURAL JOIN shop WHERE player_id = %s'\n",
    "cursor.execute(query, (1, ))\n",
    "result = cursor.fetchall()"
   ]
  },
  {
   "cell_type": "code",
   "execution_count": 16,
   "metadata": {},
   "outputs": [
    {
     "data": {
      "text/plain": [
       "['Freeze Time']"
      ]
     },
     "execution_count": 16,
     "metadata": {},
     "output_type": "execute_result"
    }
   ],
   "source": [
    "[item[\"item_name\"] for item in result]"
   ]
  },
  {
   "cell_type": "code",
   "execution_count": 60,
   "metadata": {},
   "outputs": [
    {
     "name": "stdout",
     "output_type": "stream",
     "text": [
      "'P'\n",
      "'P'\n",
      "True\n"
     ]
    }
   ],
   "source": [
    "import colorama\n",
    "from colorama import Fore, Back, Style\n",
    "import re\n",
    "\n",
    "fore_a = \"\\x1b[32mP\\x1b[0m\"\n",
    "a = 'P'\n",
    "\n",
    "print(repr(re.sub(r\"_|\\033\\[\\d+m\", \"\", fore_a)))\n",
    "print(repr(a))\n",
    "\n",
    "print(re.sub(r'\\033\\[\\d+m', '', fore_a) == a)"
   ]
  },
  {
   "cell_type": "code",
   "execution_count": 51,
   "metadata": {},
   "outputs": [
    {
     "name": "stdout",
     "output_type": "stream",
     "text": [
      "list: [\"''\", \"''\", \"''\", \"''\", \"''\"]\n",
      "best_guess: set()\n",
      "if best_guess is empty works too.\n"
     ]
    },
    {
     "data": {
      "text/plain": [
       "{1, 2, 3, 4, 5}"
      ]
     },
     "execution_count": 51,
     "metadata": {},
     "output_type": "execute_result"
    }
   ],
   "source": [
    "import time\n",
    "b = set([4,1,2,3,3,3,3,1,5])\n",
    "list = [['_' for _ in range(5)]]\n",
    "rem_col = lambda letter : re.sub(r'_|\\033\\[\\d+m', '', letter)\n",
    "\n",
    "print('list:', [repr(rem_col(l)) for l in list[-1]])\n",
    "best_guess = set(''.join([rem_col(l) for l in list[-1]])) # get the best guess from the previous feedback\n",
    "# check if best guess is a subset of the current guess\n",
    "print('best_guess:', best_guess)\n",
    "if not best_guess.issubset(set(b)):\n",
    "    print(Fore.RED + \"Invalid guess. Must use all letters from previous guesses.\" + Style.RESET_ALL)\n",
    "    time.sleep(1)\n",
    "else:\n",
    "    print('if best_guess is empty works too.')\n",
    "\n",
    "b"
   ]
  },
  {
   "cell_type": "code",
   "execution_count": 53,
   "metadata": {},
   "outputs": [
    {
     "name": "stdout",
     "output_type": "stream",
     "text": [
      "\u001b[32m\n"
     ]
    }
   ],
   "source": [
    "print(Fore.GREEN)"
   ]
  },
  {
   "cell_type": "code",
   "execution_count": 3,
   "metadata": {},
   "outputs": [
    {
     "data": {
      "text/plain": [
       "0"
      ]
     },
     "execution_count": 3,
     "metadata": {},
     "output_type": "execute_result"
    }
   ],
   "source": [
    "item = [item for item in ['a', 'b', 'c'] if item == 'd']\n",
    "\n",
    "len(item)"
   ]
  },
  {
   "cell_type": "code",
   "execution_count": null,
   "metadata": {},
   "outputs": [],
   "source": []
  }
 ],
 "metadata": {
  "kernelspec": {
   "display_name": ".wordle_venv",
   "language": "python",
   "name": "python3"
  },
  "language_info": {
   "codemirror_mode": {
    "name": "ipython",
    "version": 3
   },
   "file_extension": ".py",
   "mimetype": "text/x-python",
   "name": "python",
   "nbconvert_exporter": "python",
   "pygments_lexer": "ipython3",
   "version": "3.11.7"
  }
 },
 "nbformat": 4,
 "nbformat_minor": 2
}
